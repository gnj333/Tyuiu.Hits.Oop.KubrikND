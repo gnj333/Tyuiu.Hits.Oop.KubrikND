{
 "cells": [
  {
   "cell_type": "markdown",
   "metadata": {},
   "source": [
    "<h1 style=\"color:DodgerBlue\">Индивидальный проект</h1>"
   ]
  },
  {
   "cell_type": "markdown",
   "metadata": {},
   "source": [
    "<h2 style=\"color:DodgerBlue\">Название проекта: индивидуальный проект</h2>\n",
    "\n",
    "----\n",
    "\n",
    "### Вариант задания 10\n",
    "\n"
   ]
  },
  {
   "cell_type": "markdown",
   "metadata": {},
   "source": [
    "<h2 style=\"color:DodgerBlue\">Описание проекта:</h2>\n",
    "\n",
    "----\n",
    "\n",
    "\n",
    "Описание задачи:\n",
    "Создать базовый класс Invoice в C#, который будет представлять информацию о\n",
    "фактурах за поставленные товары или оказанные услуги. На основе этого класса\n",
    "разработать 2-3 производных класса, демонстрирующих принципы наследования и\n",
    "полиморфизма. В каждом из классов должны быть реализованы новые атрибуты и\n",
    "методы, а также переопределены некоторые методы базового класса для\n",
    "демонстрации полиморфизма.\n",
    "Требования к базовому классу Invoice:\n",
    "• Атрибуты: Номер фактуры (InvoiceNumber), Дата выдачи (IssueDate), Общая\n",
    "сумма (TotalAmount).\n",
    "• Методы:\n",
    "o\n",
    "o CalculateTotal(): метод для расчета общей суммы по фактуре.\n",
    "o AddLine(LineItem lineItem): метод для добавления позиции в фактуру.\n",
    "o RemoveLine(LineItem lineItem): метод для удаления позиции из\n",
    "фактуры.\n",
    "Требования к производным классам:\n",
    "1. ТоварнаяФактура (GoodsInvoice): Должна содержать дополнительные\n",
    "атрибуты, такие как Дата поставки (SupplyDate). Метод AddLine() должен\n",
    "быть переопределен для добавления информации о дате поставки товара\n",
    "при добавлении позиции.\n",
    "2. УслуговаяФактура (ServiceInvoice): Должна содержать дополнительные\n",
    "атрибуты, такие как Дата оказания услуги (ServiceDate).\n",
    "Метод RemoveLine() должен быть переопределен для добавления\n",
    "информации о причине аннулирования услуги при удалении позиции.\n",
    "3. КомбинированнаяФактура (CombinedInvoice) (если требуется третий класс):\n",
    "Должна содержать дополнительные атрибуты, такие как Наличие возврата\n",
    "(ReturnAllowed). Метод CalculateTotal() должен быть переопределен для\n",
    "учета возможного возврата товара или услуги при расчете общей суммы.\n"
   ]
  },
  {
   "cell_type": "markdown",
   "metadata": {},
   "source": [
    "<h2 style=\"color:DodgerBlue\">Реализация:</h2>\n",
    "\n",
    "----"
   ]
  },
  {
   "cell_type": "code",
   "execution_count": 2,
   "metadata": {
    "dotnet_interactive": {
     "language": "csharp"
    },
    "polyglot_notebook": {
     "kernelName": "csharp"
    }
   },
   "outputs": [],
   "source": [
    "public class Invoice\n",
    "{\n",
    "    protected string invoiceNumber;\n",
    "    protected DateTime issueDate;\n",
    "    protected double totalAmount;\n",
    "    public List<LineItem> lineItems;\n",
    "\n",
    "    public double TotalAmount\n",
    "    {\n",
    "        get { return this.totalAmount; }\n",
    "        set { this.totalAmount = value; }\n",
    "    }\n",
    "\n",
    "    public Invoice(string invoiceNumber, DateTime issueDate)\n",
    "    {\n",
    "        this.invoiceNumber = invoiceNumber;\n",
    "        this.issueDate = issueDate;\n",
    "        this.lineItems = new List<LineItem>();\n",
    "    }\n",
    "\n",
    "    public virtual void CalculateTotal()\n",
    "    {\n",
    "        TotalAmount = 0;\n",
    "        foreach (var item in this.lineItems)\n",
    "        {\n",
    "            TotalAmount += item.Amount;\n",
    "        }\n",
    "    }\n",
    "\n",
    "    public virtual void AddLine(LineItem lineItem)\n",
    "    {\n",
    "        this.lineItems.Add(lineItem);\n",
    "        CalculateTotal();\n",
    "    }\n",
    "\n",
    "    public virtual void RemoveLine(LineItem lineItem)\n",
    "    {\n",
    "        this.lineItems.Remove(lineItem);\n",
    "        CalculateTotal();\n",
    "    }\n",
    "}\n",
    "public class LineItem\n",
    "{\n",
    "    private string description;\n",
    "    private double amount;\n",
    "\n",
    "    public string Description\n",
    "    {\n",
    "        get { return this.description; }\n",
    "        set { this.description = value; }\n",
    "    }\n",
    "\n",
    "    public double Amount\n",
    "    {\n",
    "        get { return this.amount; }\n",
    "        set { this.amount = value; }\n",
    "    }\n",
    "    public LineItem(string description, double amount)\n",
    "    {\n",
    "        Description = description;\n",
    "        Amount = amount;\n",
    "    }\n",
    "}\n",
    "public class GoodsInvoice : Invoice\n",
    "{\n",
    "    private DateTime supplyDate;\n",
    "\n",
    "    public GoodsInvoice(string invoiceNumber, DateTime issueDate, DateTime supplyDate) : base(invoiceNumber, issueDate)\n",
    "    {\n",
    "        this.supplyDate = supplyDate;\n",
    "    }\n",
    "\n",
    "    public override void AddLine(LineItem lineItem)\n",
    "    {\n",
    "        Console.WriteLine($\"Добавление товара с датой поставки: {this.supplyDate.ToShortDateString()}\");\n",
    "        base.AddLine(lineItem);\n",
    "    }\n",
    "}\n",
    "public class ServiceInvoice : Invoice\n",
    "{\n",
    "    private DateTime serviceDate;\n",
    "\n",
    "    public ServiceInvoice(string invoiceNumber, DateTime issueDate, DateTime serviceDate) : base(invoiceNumber, issueDate)\n",
    "    {\n",
    "        this.serviceDate = serviceDate;\n",
    "    }\n",
    "\n",
    "    public override void RemoveLine(LineItem lineItem)\n",
    "    {\n",
    "        Console.WriteLine($\"Удаление услуги. Причина: Услуга отменена на {this.serviceDate.ToShortDateString()}\");\n",
    "        base.RemoveLine(lineItem);\n",
    "    }\n",
    "}\n",
    "public class CombinedInvoice : Invoice\n",
    "{\n",
    "    private bool returnAllowed;\n",
    "\n",
    "    public CombinedInvoice(string invoiceNumber, DateTime issueDate, bool returnAllowed) : base(invoiceNumber, issueDate)\n",
    "    {\n",
    "        this.returnAllowed = returnAllowed;\n",
    "    }\n",
    "\n",
    "    public override void CalculateTotal()\n",
    "    {\n",
    "        base.CalculateTotal();\n",
    "        if (this.returnAllowed)\n",
    "        {\n",
    "            TotalAmount *= 1.1;\n",
    "        }\n",
    "    }\n",
    "}"
   ]
  }
 ],
 "metadata": {
  "kernelspec": {
   "display_name": ".NET (C#)",
   "language": "C#",
   "name": ".net-csharp"
  },
  "polyglot_notebook": {
   "kernelInfo": {
    "defaultKernelName": "csharp",
    "items": [
     {
      "aliases": [],
      "languageName": "csharp",
      "name": "csharp"
     }
    ]
   }
  }
 },
 "nbformat": 4,
 "nbformat_minor": 2
}
